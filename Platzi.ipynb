{
 "cells": [
  {
   "cell_type": "code",
   "execution_count": null,
   "metadata": {},
   "outputs": [],
   "source": [
    "# Class\n",
    "class Coordenada:\n",
    "    def __init__(self, x, y):\n",
    "        self.x = x\n",
    "        self.y = y\n",
    "    def distancia(self, coordenada2):\n",
    "        x_diff = (self.x - coordenada2.x)**2\n",
    "        y_diff = (self.y - coordenada2.y)**2\n",
    "\n",
    "        return (x_diff + y_diff)**0.5\n",
    "\n",
    "if __name__ == '__main__':\n",
    "    coord_1 = Coordenada(3, 30)\n",
    "    coord_2 = Coordenada(4, 8)\n",
    "\n",
    "    print(coord_1.distancia(coord_2))\n",
    "    print(isinstance(coord_1, Coordenada))\n",
    "        "
   ]
  },
  {
   "cell_type": "code",
   "execution_count": null,
   "metadata": {},
   "outputs": [],
   "source": [
    "# Decomposición\n",
    "\n",
    "class Automovil:\n",
    "    def __init__(self, modelo, marca, color):\n",
    "        self.modelo = modelo\n",
    "        self.marca = marca\n",
    "        self.color = color\n",
    "        self._esatado = 'en_reposo'\n",
    "        self._motor = Motor(cilindros=4)\n",
    "\n",
    "    def acelerar(self, tipo='despacio'):\n",
    "        if tipo == 'rapida':\n",
    "            self._motor.inyecta_gasolina(10)\n",
    "        else:\n",
    "            self._motor.inyecta_gasolina(3)\n",
    "\n",
    "        self._esatado = 'en_movimiento'\n",
    "\n",
    "class Motor:\n",
    "    def __init__(self, cilindros, tipo='gasolina'):\n",
    "        self.cilindros = cilindros\n",
    "        self.tipo = tipo\n",
    "        self._temperatura = 0\n",
    "\n",
    "    def inyecta_gasolina(self, cantidad):\n",
    "        pass"
   ]
  },
  {
   "cell_type": "code",
   "execution_count": null,
   "metadata": {},
   "outputs": [],
   "source": [
    "class Lavadora:\n",
    "    def __init__(self):\n",
    "        pass\n",
    "    def lavar(self, temperatura='caliente'):\n",
    "        self._llenar_tanque_de_agua(temperatura)\n",
    "        self._anadir_jabon()\n",
    "        self._lavar()\n",
    "        self._centrifugar()\n",
    "\n",
    "    def _llenar_tanque_de_agua(self, temperatura):\n",
    "        print(f'Lllenando el tanque con agua {temperatura}')\n",
    "    def _anadir_jabon(self):\n",
    "        print(f'Añadiendo jabon') \n",
    "    def _lavar(self):\n",
    "        print('Lavando la ropa')\n",
    "    def _centrifugar(self):\n",
    "        print('Secando la ropa')\n",
    "\n",
    "\n",
    "if __name__ == '__main__':\n",
    "    lavadora = Lavadora()\n",
    "    lavadora.lavar()"
   ]
  },
  {
   "cell_type": "code",
   "execution_count": null,
   "metadata": {},
   "outputs": [],
   "source": [
    "# Herarchi\n",
    "\n",
    "class Rectangulo:\n",
    "    def __init__(self, base, altura):\n",
    "        self.base = base\n",
    "        self.altura = altura\n",
    "    def area(self):\n",
    "        return self.base * self.altura\n",
    "        \n",
    "class Cuaddrado(Rectangulo):\n",
    "    def __init__(self, lado):\n",
    "        super().__init__(lado, lado)\n",
    "        \n",
    "\n",
    "if __name__ == '__main__':\n",
    "    rectangulo = Rectangulo(base=4, altura=3)\n",
    "    print(rectangulo.area())\n",
    "\n",
    "    cuadrado = Cuaddrado(rectangulo.base)\n",
    "    print(cuadrado.area())"
   ]
  },
  {
   "cell_type": "code",
   "execution_count": null,
   "metadata": {},
   "outputs": [],
   "source": [
    "# Polimorfismo\n",
    "\n",
    "class Persona:\n",
    "    def __init__(self, nombre):\n",
    "        self.nombre = nombre\n",
    "    def  avanza(self):\n",
    "        print('Ando caminando')\n",
    "class Ciclista(Persona):\n",
    "    def __init__(self, nombre):\n",
    "        super().__init__(nombre)\n",
    "    def avanza(self):\n",
    "        print('Ando moviendoome en bicicleta')\n",
    "\n",
    "def main():\n",
    "    persona = Persona('Cesar')\n",
    "    persona.avanza()\n",
    "\n",
    "    ciclista = Ciclista('Astrik')\n",
    "    ciclista.avanza()\n",
    "\n",
    "if __name__ == '__main__':\n",
    "    main()\n"
   ]
  },
  {
   "cell_type": "markdown",
   "metadata": {},
   "source": [
    "# Introducción a algoritmos"
   ]
  },
  {
   "cell_type": "code",
   "execution_count": null,
   "metadata": {},
   "outputs": [],
   "source": [
    "# Comparación de eficiencia de algoritmos 1\n",
    "\n",
    "import time\n",
    "\n",
    "def factorial(n):\n",
    "    respuesta = 1\n",
    "\n",
    "    while n > 1:\n",
    "        respuesta *= n\n",
    "        n -= 1\n",
    "    return respuesta\n",
    "\n",
    "def factorial_r(n):\n",
    "    if n == 1:\n",
    "        return 1\n",
    "    return n * factorial(n - 1)\n",
    "\n",
    "if __name__ == '__main__':\n",
    "    n = 200000\n",
    "\n",
    "    comienzo = time.time()\n",
    "    factorial(n)\n",
    "    final = time.time()\n",
    "    print(final - comienzo)\n",
    "\n",
    "    comienzo = time.time()\n",
    "    factorial_r(n)\n",
    "    final = time.time()\n",
    "    print(final - comienzo)\n"
   ]
  },
  {
   "cell_type": "code",
   "execution_count": null,
   "metadata": {},
   "outputs": [],
   "source": [
    "# Busqueda lineal\n",
    "import random\n",
    "\n",
    "def busqueda_lineal(lista, objetivo):\n",
    "    match = False\n",
    "\n",
    "    for elemento in lista: #O(n) Depende de n que en este caso es el tamaño de la lista\n",
    "        if elemento == objetivo:\n",
    "            match = True\n",
    "            break\n",
    "    return match\n",
    "\n",
    "if __name__ == '__main__':\n",
    "    tamno_de_lista = int(input('De que tamano sera la lista?'))\n",
    "    objetivo = int(input('Que numero quieres encontrar?'))\n",
    "\n",
    "    lista = [random.randint(0, 100) for i in range(tamno_de_lista)]\n",
    "    \n",
    "    encontrado = busqueda_lineal(lista, objetivo)\n",
    "    print(lista)\n",
    "    print(f'El elemento {objetivo} {\"esta\" if encontrado else \"no esta\"} en la lista')\n"
   ]
  },
  {
   "cell_type": "code",
   "execution_count": 2,
   "metadata": {},
   "outputs": [
    {
     "name": "stdout",
     "output_type": "stream",
     "text": [
      "[0, 3, 4, 11, 11, 12, 16, 18, 24, 25, 26, 27, 29, 29, 31, 36, 37, 42, 43, 44, 48, 48, 49, 52, 53, 54, 55, 57, 58, 60, 61, 62, 63, 63, 64, 68, 71, 73, 79, 81, 84, 85, 85, 87, 90, 90, 94, 95, 98, 100]\n",
      "El elemento 5 no esta en la lista\n"
     ]
    }
   ],
   "source": [
    "#Busqueda Binaria\n",
    "import random\n",
    "\n",
    "def busqueda_binaria(lista, comienzo, final, objetivo):\n",
    "    if comienzo > final:\n",
    "        return False\n",
    "    medio = (comienzo + final) //2\n",
    "\n",
    "    if lista[medio] == objetivo:\n",
    "        return True\n",
    "    elif lista[medio] < objetivo:\n",
    "        return busqueda_binaria(lista, medio + 1, final, objetivo)\n",
    "    else:\n",
    "        return busqueda_binaria(lista, comienzo, medio -1, objetivo)\n",
    "\n",
    "if __name__ == '__main__':\n",
    "    tamno_de_lista = int(input('De que tamano sera la lista?'))\n",
    "    objetivo = int(input('Que numero quieres encontrar?'))\n",
    "\n",
    "    lista = sorted([random.randint(0, 100) for i in range(tamno_de_lista)])\n",
    "    \n",
    "    encontrado = busqueda_binaria(lista, 0, len(lista), objetivo)\n",
    "    print(lista)\n",
    "    print(f'El elemento {objetivo} {\"esta\" if encontrado else \"no esta\"} en la lista')\n"
   ]
  }
 ],
 "metadata": {
  "kernelspec": {
   "display_name": "Python 3.10.5 64-bit (windows store)",
   "language": "python",
   "name": "python3"
  },
  "language_info": {
   "codemirror_mode": {
    "name": "ipython",
    "version": 3
   },
   "file_extension": ".py",
   "mimetype": "text/x-python",
   "name": "python",
   "nbconvert_exporter": "python",
   "pygments_lexer": "ipython3",
   "version": "3.10.5"
  },
  "orig_nbformat": 4,
  "vscode": {
   "interpreter": {
    "hash": "8087080aba26fb2bd6ac4781d5e8f5b1fcc58b66b12b9d11fb271d3c71b9e510"
   }
  }
 },
 "nbformat": 4,
 "nbformat_minor": 2
}
